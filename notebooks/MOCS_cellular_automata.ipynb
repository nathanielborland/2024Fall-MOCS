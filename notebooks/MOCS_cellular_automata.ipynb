{
  "cells": [
    {
      "cell_type": "markdown",
      "metadata": {
        "colab_type": "text",
        "id": "view-in-github"
      },
      "source": [
        "<a href=\"https://colab.research.google.com/github/trevor-webster/2024Fall-MOCS/blob/main/MOCS_cellular_automata.ipynb\" target=\"_parent\"><img src=\"https://colab.research.google.com/assets/colab-badge.svg\" alt=\"Open In Colab\"/></a>"
      ]
    },
    {
      "cell_type": "markdown",
      "metadata": {
        "id": "v0HXrv4Qou-T"
      },
      "source": [
        "# Functions to decode and run cellular automata\n",
        "\n"
      ]
    },
    {
      "cell_type": "code",
      "execution_count": 1,
      "metadata": {
        "id": "nzUTiLt1eklL"
      },
      "outputs": [],
      "source": [
        "import numpy as np\n",
        "\n",
        "# Ruleset for binary 1D CA\n",
        "# current pattern:\t111\t110\t101\t100\t011\t010\t001\t000\n",
        "# new state:      \t ?   ?\t ?\t ?\t ?\t ?\t ?\t ?\n",
        "def run_1d_CA(steps, tape):\n",
        "    rule = np.zeros((2, 2, 2))\n",
        "    rule[1,1,1] = 1\n",
        "    rule[1,1,0] = 0\n",
        "    rule[1,0,1] = 1\n",
        "    rule[0,1,1] = 1\n",
        "    rule[1,0,0] = 1\n",
        "    rule[0,1,0] = 0\n",
        "    rule[0,0,1] = 0\n",
        "    rule[0,0,0] = 0\n",
        "    N = tape.shape[0] #size (length) of the system\n",
        "    #2D data structure to record all time steps: t-th row = system at time t\n",
        "    tapes = np.zeros((steps, N),dtype=int)\n",
        "    tapes[0, :] = tape #initial conditions\n",
        "    for i in range(steps-1): #for every time step\n",
        "        for j in range(N): #for every cell\n",
        "            #check state of cell j and neighborhood\n",
        "            left = tapes[i, (j-1)%N]\n",
        "            center = tapes[i, j%N]\n",
        "            right = tapes[i, (j+1)%N]\n",
        "            #apply the rule on cell j\n",
        "            tapes[(i+1), j] = rule[left,center,right]\n",
        "    return tapes\n",
        "\n",
        "# Example of a hardcoded ruleset for Rule 30\n",
        "# current pattern:\t111\t110\t101\t100\t011\t010\t001\t000\n",
        "# new state:      \t 0   0\t 0\t 1\t 1\t 1\t 1\t 0\n",
        "def run_rule_30(steps, tape):\n",
        "    rule = np.zeros((2, 2, 2))\n",
        "    rule[1,1,1] = 0\n",
        "    rule[1,1,0] = 0\n",
        "    rule[1,0,1] = 0\n",
        "    rule[1,0,0] = 1\n",
        "    rule[0,1,1] = 1\n",
        "    rule[0,1,0] = 1\n",
        "    rule[0,0,1] = 1\n",
        "    rule[0,0,0] = 0\n",
        "    N = tape.shape[0]\n",
        "    tapes = np.zeros((steps, N),dtype=int) #data structure to record all time steps\n",
        "    tapes[0, :] = tape #initial conditions\n",
        "    for i in range(steps-1): #for every time step\n",
        "        for j in range(N): #for every cell\n",
        "            #check state of cell j and neighborhood\n",
        "            left = tapes[i, (j-1)%N]\n",
        "            center = tapes[i, j%N]\n",
        "            right = tapes[i, (j+1)%N]\n",
        "            #apply the rule on cell j\n",
        "            tapes[(i+1), j] = rule[left,center,right]\n",
        "    return tapes\n",
        "\n",
        "# Functions to decode a cellular automaton rule from an integer\n",
        "# using the Wolfram convention and binary representation\n",
        "# https://mathworld.wolfram.com/ElementaryCellularAutomaton.html\n",
        "def decode_rule(code, S, K):\n",
        "    rule = np.zeros(S**K, dtype=int) #all rules of S states & K cells\n",
        "    i = S**K-1 #start at the end, indexed by zero\n",
        "    while code > 0: #https://en.wikipedia.org/wiki/Wolfram_code\n",
        "        rule[i] = code % S\n",
        "        code = code // S\n",
        "        i -= 1\n",
        "    return rule[::-1] #reverse the ruleset\n",
        "\n",
        "# Function to run a cellular automaton rule given an initial\n",
        "# N-sized tape. Returns a 'steps' x 'N' matrix\n",
        "def run_cellauto(S, K, rule, steps, tape):\n",
        "    N = tape.shape[0]\n",
        "    tapes = np.zeros((steps, N)) #data structure to record all time steps\n",
        "    tapes[0, :] = tape #initial conditions\n",
        "    for i in range(steps-1): #for every time step\n",
        "        for j in range(N): #for every cell\n",
        "            #calcule the rule index (https://en.wikipedia.org/wiki/Wolfram_code)\n",
        "            #modulo (%) applies periodic boundary condition\n",
        "            idx = int(sum([S**(K-(k+K//2)-1)*tapes[i, (j+k)%N] for k in range(-(K//2), K//2+1)]))\n",
        "            #apply the rule on cell j\n",
        "            tapes[(i+1)%N, j] = rule[idx]\n",
        "    return tapes"
      ]
    },
    {
      "cell_type": "code",
      "execution_count": 2,
      "metadata": {},
      "outputs": [
        {
          "data": {
            "text/plain": [
              "array([0, 1, 1, 1, 0, 1, 1, 0])"
            ]
          },
          "execution_count": 2,
          "metadata": {},
          "output_type": "execute_result"
        }
      ],
      "source": [
        "N, S, K, steps = 32, 2, 3, 32 #size, states, neighbors, steps\n",
        "rule = 110 #rule number\n",
        "decode_rule(110, S, K )"
      ]
    },
    {
      "cell_type": "markdown",
      "metadata": {
        "id": "yUlDUVQ4eklM"
      },
      "source": [
        "**Main code to run a cellular automaton**"
      ]
    },
    {
      "cell_type": "code",
      "execution_count": 6,
      "metadata": {
        "colab": {
          "base_uri": "https://localhost:8080/",
          "height": 371
        },
        "id": "7U1RgixKeklM",
        "outputId": "a1e43efa-4256-4192-e149-3305acf11d01"
      },
      "outputs": [
        {
          "data": {
            "image/png": "[encoded data removed]",
            "text/plain": [
              "<Figure size 400x400 with 1 Axes>"
            ]
          },
          "metadata": {},
          "output_type": "display_data"
        }
      ],
      "source": [
        "import matplotlib.pyplot as plt\n",
        "from matplotlib import cm\n",
        "from matplotlib import patches\n",
        "import random\n",
        "\n",
        "from IPython import display\n",
        "from time import sleep\n",
        "\n",
        "# Parameters\n",
        "N, S, K, steps = 32, 2, 3, 32 #size, states, neighbors, steps\n",
        "rule = 110 #rule number\n",
        "tape = np.zeros(N) #initial conditions of zero\n",
        "tape[N//2] = 1 #initial conditions\n",
        "#tape = np.random.randint(2, size=N) #random initial conditions\n",
        "\n",
        "# Run the CA\n",
        "#tapes = run_1d_CA(steps,tape)\n",
        "#tapes = run_rule_30(steps,tape)\n",
        "tapes = run_cellauto(S, K, decode_rule(rule, S, K), steps, tape) #run model\n",
        "\n",
        "# Plot everything slowly, one generation at a time\n",
        "fig, ax = plt.subplots(figsize=(4, 4))\n",
        "ax.set_xlim(0,N)\n",
        "ax.set_ylim(0,steps)\n",
        "plt.axis('off')\n",
        "ax.set_aspect('equal')\n",
        "for i in range(steps):\n",
        "    temp = np.zeros((steps,N))\n",
        "    temp[0:i,:] = tapes[0:i,:]\n",
        "    plt.imshow(np.flipud(temp), cmap=plt.get_cmap(cm.bone))\n",
        "    display.display(plt.gcf())\n",
        "    display.clear_output(wait=True)\n",
        "\n",
        "# Add rule label\n",
        "#ax.text(2, steps+0.5, f'Cellular automaton', color='Orange', fontsize=20)\n",
        "ax.text(2, steps+0.5, f'Rule {rule}', color='Orange', fontsize=20)\n",
        "plt.show()"
      ]
    },
    {
      "cell_type": "markdown",
      "metadata": {
        "id": "Sw0BVkeqdDJi"
      },
      "source": [
        "# Functions to visualize cellauto rules"
      ]
    },
    {
      "cell_type": "code",
      "execution_count": 5,
      "metadata": {
        "id": "TQEqiCmOdDJi"
      },
      "outputs": [],
      "source": [
        "import numpy as np\n",
        "from matplotlib import cm\n",
        "from matplotlib import patches\n",
        "from matplotlib import pyplot as plt\n",
        "\n",
        "def visualize_rule(rule, S, K, grid=False):\n",
        "    n_configs = S**K #number of rules for K cells in one of S states\n",
        "    sqrt_n_configs = int(np.ceil(np.sqrt(n_configs)))\n",
        "\n",
        "    if grid:\n",
        "        fig, ax = plt.subplots(figsize=(sqrt_n_configs*(K+1), sqrt_n_configs*3))\n",
        "    else:\n",
        "        fig, ax = plt.subplots(figsize=(n_configs*(K+1), 2))\n",
        "\n",
        "    plt.axis('off')\n",
        "    ax.set_aspect('equal')\n",
        "\n",
        "    if grid:\n",
        "        ax.set_xlim(-S//2-1,sqrt_n_configs*(K+1))\n",
        "        ax.set_ylim(-1,sqrt_n_configs*3)\n",
        "    else:\n",
        "        ax.set_xlim(-S//2-1,n_configs*(K+1))\n",
        "        ax.set_ylim(-1,2)\n",
        "\n",
        "    colors = cm.bone(np.linspace(0,1,S))\n",
        "\n",
        "    config_i = 0\n",
        "    config = [(config_i//(S**k))%S for k in range(K)]\n",
        "    for i in range(sqrt_n_configs if grid else n_configs):\n",
        "        for j in range(sqrt_n_configs if grid else 1):\n",
        "            if grid:\n",
        "                xy = np.array((j*(K+1), (sqrt_n_configs-i-1)*3))\n",
        "            else:\n",
        "                xy = np.array(((n_configs-i-1)*(K+1), 0))\n",
        "\n",
        "            ax.add_patch(patches.Rectangle(\n",
        "                xy, 1, 1,\n",
        "                color=colors[rule[config_i]], fill=True\n",
        "            ))\n",
        "            ax.add_patch(patches.Rectangle(\n",
        "                xy, 1, 1,\n",
        "                color='black', fill=False\n",
        "            ))\n",
        "\n",
        "            for k in range(K):\n",
        "                ax.add_patch(patches.Rectangle(\n",
        "                    xy + np.array((k-K//2,1)), 1, 1,\n",
        "                    color=colors[config[k]], fill=True\n",
        "                ))\n",
        "                ax.add_patch(patches.Rectangle(\n",
        "                    xy + np.array((k-K//2,1)), 1, 1,\n",
        "                    color='black', fill=False\n",
        "                ))\n",
        "\n",
        "            config_i += 1\n",
        "            config = [(config_i//(S**k))%S for k in range(K)][::-1]\n",
        "            if config_i >= n_configs:\n",
        "                return fig, ax"
      ]
    },
    {
      "cell_type": "code",
      "execution_count": 11,
      "metadata": {},
      "outputs": [
        {
          "data": {
            "text/plain": [
              "array([1, 0, 0, 0, 0, 0, 0, 0])"
            ]
          },
          "execution_count": 11,
          "metadata": {},
          "output_type": "execute_result"
        }
      ],
      "source": [
        "N, S, K, steps = 32, 2, 3, 32 #size, states, neighbors, steps\n",
        "rule = 1 #rule number\n",
        "decode_rule(rule, S, K )"
      ]
    },
    {
      "cell_type": "code",
      "execution_count": 7,
      "metadata": {
        "colab": {
          "base_uri": "https://localhost:8080/",
          "height": 936
        },
        "id": "Gp9NCO12dPK4",
        "outputId": "90f67404-2584-4567-8985-e7838593723f"
      },
      "outputs": [
        {
          "name": "stdout",
          "output_type": "stream",
          "text": [
            "110\n"
          ]
        },
        {
          "data": {
            "image/png": "[encoded data removed]",
            "text/plain": [
              "<Figure size 3200x200 with 1 Axes>"
            ]
          },
          "metadata": {},
          "output_type": "display_data"
        },
        {
          "data": {
            "image/png": "[encoded data removed]",
            "text/plain": [
              "<Figure size 3200x200 with 1 Axes>"
            ]
          },
          "metadata": {},
          "output_type": "display_data"
        },
        {
          "data": {
            "image/png": "[encoded data removed]",
            "text/plain": [
              "<Figure size 3200x200 with 1 Axes>"
            ]
          },
          "metadata": {},
          "output_type": "display_data"
        },
        {
          "data": {
            "image/png": "[encoded data removed]",
            "text/plain": [
              "<Figure size 3200x200 with 1 Axes>"
            ]
          },
          "metadata": {},
          "output_type": "display_data"
        },
        {
          "data": {
            "image/png": "[encoded data removed]",
            "text/plain": [
              "<Figure size 3200x200 with 1 Axes>"
            ]
          },
          "metadata": {},
          "output_type": "display_data"
        }
      ],
      "source": [
        "\n",
        "for code in [1, 30, 90, 110, 184]:\n",
        "    fig, ax = visualize_rule(decode_rule(code, 2, 3), 2, 3, grid=False)\n",
        "    ax.text(-.3, 2.2, f'Rule {code}', c='black', fontsize=15)\n",
        "    plt.show() #remember white = 1 (or on) and black = 0 (or off)"
      ]
    },
    {
      "cell_type": "code",
      "execution_count": 8,
      "metadata": {
        "id": "8OG-MM1T8-ql"
      },
      "outputs": [],
      "source": []
    }
  ],
  "metadata": {
    "colab": {
      "collapsed_sections": [
        "Sw0BVkeqdDJi"
      ],
      "include_colab_link": true,
      "provenance": []
    },
    "kernelspec": {
      "display_name": "Python 3",
      "language": "python",
      "name": "python3"
    },
    "language_info": {
      "codemirror_mode": {
        "name": "ipython",
        "version": 3
      },
      "file_extension": ".py",
      "mimetype": "text/x-python",
      "name": "python",
      "nbconvert_exporter": "python",
      "pygments_lexer": "ipython3",
      "version": "3.10.11"
    }
  },
  "nbformat": 4,
  "nbformat_minor": 0
}
