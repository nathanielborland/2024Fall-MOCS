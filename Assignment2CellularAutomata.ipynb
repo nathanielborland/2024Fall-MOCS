{
  "cells": [
    {
      "cell_type": "markdown",
      "metadata": {
        "colab_type": "text",
        "id": "view-in-github"
      },
      "source": [
        "<a href=\"https://colab.research.google.com/github/trevor-webster/2024Fall-MOCS/blob/main/Assignment2CellularAutomata.ipynb\" target=\"_parent\"><img src=\"https://colab.research.google.com/assets/colab-badge.svg\" alt=\"Open In Colab\"/></a>"
      ]
    },
    {
      "cell_type": "markdown",
      "metadata": {},
      "source": [
        "## **Assignment #2**\n",
        "Carina Manitius, Trevor Webster, Derek Devine, Nate Borland"
      ]
    },
    {
      "cell_type": "markdown",
      "metadata": {
        "id": "QDMojDhsNQuC"
      },
      "source": [
        "# 1"
      ]
    },
    {
      "cell_type": "markdown",
      "metadata": {},
      "source": [
        "# City Growth"
      ]
    },
    {
      "cell_type": "markdown",
      "metadata": {},
      "source": [
        "$$X_{N+1} = r X_N(1-X_N)$$"
      ]
    },
    {
      "cell_type": "code",
      "execution_count": 18,
      "metadata": {},
      "outputs": [
        {
          "data": {
            "image/png": "[encoded data removed]",
            "text/plain": [
              "<Figure size 640x480 with 1 Axes>"
            ]
          },
          "metadata": {},
          "output_type": "display_data"
        }
      ],
      "source": [
        "import numpy as np\n",
        "import matplotlib.pyplot as plt\n",
        "from matplotlib import cm\n",
        "from IPython import display\n",
        "\n",
        "import time\n",
        "\n",
        "# chance to turn into a city for each possible number of city neighbors\n",
        "chance_0 = 0 # @param {type:\"slider\", min:0, max:1, step:0.01}\n",
        "chance_1 = 1 # @param {type:\"slider\", min:0, max:1, step:0.01}\n",
        "chance_2 = 0 # @param {type:\"slider\", min:0, max:1, step:0.01}\n",
        "chance_3 = 0 # @param {type:\"slider\", min:0, max:1, step:0.01}\n",
        "chance_4 = 0 # @param {type:\"slider\", min:0, max:1, step:0.01}\n",
        "chance_5 = 0 # @param {type:\"slider\", min:0, max:1, step:0.01}\n",
        "chance_6 = 0 # @param {type:\"slider\", min:0, max:1, step:0.01}\n",
        "chance_7 = 0 # @param {type:\"slider\", min:0, max:1, step:0.01}\n",
        "chance_8 = 0 # @param {type:\"slider\", min:0, max:1, step:0.01}\n",
        "r_growth_rate   = 0.8 # @param {type:\"slider\", min:0, max:1, step:0.01}\n",
        "# listed for easy indexing\n",
        "chances = [chance_0, chance_1, chance_2, chance_3, chance_4, chance_5, chance_6, chance_7, chance_8]\n",
        "K = 9 - 1\n",
        "# displays the current state of world cells\n",
        "def display_world(world):\n",
        "    plt.imshow(np.flipud(world), cmap=plt.get_cmap(cm.ocean))\n",
        "    display.display(plt.gcf())\n",
        "    display.clear_output(wait=True)\n",
        "\n",
        "# counts up the city neighbors of the world cell at [i,j]\n",
        "def count_city_neighbors(world, world_size, i, j):\n",
        "    neighborhood = world[max(i-1,0):min(i+2,world_size), max(j-1,0):min(j+2,world_size)]\n",
        "    count = np.count_nonzero(neighborhood)\n",
        "    # for k in range(len(neighborhood)):\n",
        "    #     for l in range(len(neighborhood[k])):\n",
        "    #         if (k != i or l != j) and neighborhood[k][l] == 1:\n",
        "    #             count+=1\n",
        "    # for k in range(max(0, i-1), min(world_size, i+2)):\n",
        "    #     for l in range(max(0, j-1), min(world_size, j+2)):\n",
        "    #         # if (k != i or l != j) and world[k,l] == 1:\n",
        "    #         if world[k][l] == 1:\n",
        "    #             count += 1\n",
        "    \n",
        "    return count\n",
        "\n",
        "def logistic_rule(neighbor_count):\n",
        "    return np.random.rand() < r_growth_rate * (neighbor_count/K) * (1 - (neighbor_count/K))\n",
        "\n",
        "## Explicit zoning rules for each neighbor count\n",
        "def rule(neighbor_count):\n",
        "    return (chances[neighbor_count] > 0 and np.random.rand() < chances[neighbor_count])\n",
        "\n",
        "def update_world(world, world_size):\n",
        "    next_world = world.copy()\n",
        "    reached_edge = False\n",
        "    for i in range(world_size):\n",
        "        for j in range(world_size):\n",
        "            if world[i][j] == 1:\n",
        "                continue\n",
        "            neighbor_count = count_city_neighbors(world, world_size,i,j)\n",
        "            if(logistic_rule(neighbor_count)):\n",
        "                next_world[i,j] = 1\n",
        "                if i == 0 or j == 0 or i == world_size-1 or j == world_size-1:\n",
        "                    reached_edge = True\n",
        "            \n",
        "    # print(next_world)\n",
        "    return (next_world, reached_edge)\n",
        "\n",
        "size = 99\n",
        "world = np.zeros((size,size))\n",
        "# world = np.arange(size**2).reshape(size,size)\n",
        "# print(world)\n",
        "# i = 6\n",
        "# j = 6\n",
        "# print(get_neighborhood(world,size,i,j))\n",
        "world[size//2,size//2] = 1\n",
        "reached_edge = False\n",
        "n = 0\n",
        "while not reached_edge:\n",
        "    display_world(world)\n",
        "    time.sleep(0.1)\n",
        "    (world, reached_edge) = update_world(world, size)\n",
        "display_world(world)\n"
      ]
    }
  ],
  "metadata": {
    "colab": {
      "include_colab_link": true,
      "provenance": [],
      "toc_visible": true
    },
    "kernelspec": {
      "display_name": "Python 3",
      "language": "python",
      "name": "python3"
    },
    "language_info": {
      "codemirror_mode": {
        "name": "ipython",
        "version": 3
      },
      "file_extension": ".py",
      "mimetype": "text/x-python",
      "name": "python",
      "nbconvert_exporter": "python",
      "pygments_lexer": "ipython3",
      "version": "3.10.11"
    }
  },
  "nbformat": 4,
  "nbformat_minor": 0
}
