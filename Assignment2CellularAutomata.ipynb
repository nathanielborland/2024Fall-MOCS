{
  "cells": [
    {
      "cell_type": "markdown",
      "metadata": {
        "colab_type": "text",
        "id": "view-in-github"
      },
      "source": [
        "<a href=\"https://colab.research.google.com/github/trevor-webster/2024Fall-MOCS/blob/main/Assignment2CellularAutomata.ipynb\" target=\"_parent\"><img src=\"https://colab.research.google.com/assets/colab-badge.svg\" alt=\"Open In Colab\"/></a>"
      ]
    },
    {
      "cell_type": "markdown",
      "metadata": {},
      "source": [
        "## **Assignment #2**\n",
        "Carina Manitius, Trevor Webster, Derek Devine, Nate Borland"
      ]
    },
    {
      "cell_type": "markdown",
      "metadata": {
        "id": "QDMojDhsNQuC"
      },
      "source": [
        "# 1"
      ]
    },
    {
      "cell_type": "markdown",
      "metadata": {
        "id": "s6DzEZAEqCGB"
      },
      "source": [
        "$$\\frac{dN_1}{dt} = \\frac{r_1 N_1(K_1 - N_1 - \\alpha_{12} N_2)}{K1}$$\n",
        "$$\\frac{dN_2}{dt} = \\frac{r_2 N_2(K_2 - N_2 - \\alpha_{21} N_1)}{K2}$$\n",
        "\n"
      ]
    },
    {
      "cell_type": "code",
      "execution_count": null,
      "metadata": {},
      "outputs": [
        {
          "data": {
            "image/png": "[encoded data removed]",
            "text/plain": [
              "<Figure size 400x400 with 1 Axes>"
            ]
          },
          "metadata": {},
          "output_type": "display_data"
        }
      ],
      "source": [
        "import matplotlib.pyplot as plt\n",
        "from matplotlib import cm\n",
        "from matplotlib import patches\n",
        "import random\n",
        "\n",
        "from IPython import display\n",
        "from time import sleep\n",
        "\n",
        "# Parameters\n",
        "N, S, K, steps = 32, 2, 3, 32 #size, states, neighbors, steps\n",
        "rule = 30 #rule number\n",
        "tape = np.zeros(N) #initial conditions of zero\n",
        "tape[N//2] = 1 #initial conditions\n",
        "#tape = np.random.randint(2, size=N) #random initial conditions\n",
        "\n",
        "# Run the CA\n",
        "#tapes = run_1d_CA(steps,tape)\n",
        "#tapes = run_rule_30(steps,tape)\n",
        "tapes = run_cellauto(S, K, decode_rule(rule, S, K), steps, tape) #run model\n",
        "\n",
        "# Plot everything slowly, one generation at a time\n",
        "fig, ax = plt.subplots(figsize=(4, 4))\n",
        "ax.set_xlim(0,N)\n",
        "ax.set_ylim(0,steps)\n",
        "plt.axis('off')\n",
        "ax.set_aspect('equal')\n",
        "for i in range(steps):\n",
        "    temp = np.zeros((steps,N))\n",
        "    temp[0:i,:] = tapes[0:i,:]\n",
        "    plt.imshow(np.flipud(temp), cmap=plt.get_cmap(cm.bone))\n",
        "    display.display(plt.gcf())\n",
        "    display.clear_output(wait=True)\n",
        "\n",
        "# Add rule label\n",
        "#ax.text(2, steps+0.5, f'Cellular automaton', color='Orange', fontsize=20)\n",
        "ax.text(2, steps+0.5, f'Rule {rule}', color='Orange', fontsize=20)\n",
        "plt.show()"
      ]
    }
  ],
  "metadata": {
    "colab": {
      "include_colab_link": true,
      "provenance": [],
      "toc_visible": true
    },
    "kernelspec": {
      "display_name": "Python 3",
      "name": "python3"
    },
    "language_info": {
      "name": "python"
    }
  },
  "nbformat": 4,
  "nbformat_minor": 0
}
