{
  "cells": [
    {
      "cell_type": "markdown",
      "metadata": {
        "colab_type": "text",
        "id": "view-in-github"
      },
      "source": [
        "<a href=\"https://colab.research.google.com/github/trevor-webster/2024Fall-MOCS/blob/main/Assignment2CellularAutomata.ipynb\" target=\"_parent\"><img src=\"https://colab.research.google.com/assets/colab-badge.svg\" alt=\"Open In Colab\"/></a>"
      ]
    },
    {
      "cell_type": "markdown",
      "metadata": {},
      "source": [
        "## **Assignment #2**\n",
        "Carina Manitius, Trevor Webster, Derek Devine, Nate Borland"
      ]
    },
    {
      "cell_type": "markdown",
      "metadata": {
        "id": "QDMojDhsNQuC"
      },
      "source": [
        "# 1"
      ]
    },
    {
      "cell_type": "markdown",
      "metadata": {
        "id": "s6DzEZAEqCGB"
      },
      "source": [
        "$$\\frac{dN_1}{dt} = \\frac{r_1 N_1(K_1 - N_1 - \\alpha_{12} N_2)}{K1}$$\n",
        "$$\\frac{dN_2}{dt} = \\frac{r_2 N_2(K_2 - N_2 - \\alpha_{21} N_1)}{K2}$$\n",
        "\n"
      ]
    },
    {
      "cell_type": "markdown",
      "metadata": {
        "id": "nWZKkAlR7GQx"
      },
      "source": [
        "First start by defining the general functions to implement Euler and Heun's methods for given variables. For Euler's method, this is done by adding the value of X in the previous time and the derivative of the value of X in the previous time. For Heun's method, this is done by adding the value of X in the previous time and the average of the derivative of X in the previous time and the derivative of Euler's estimate of X."
      ]
    }
  ],
  "metadata": {
    "colab": {
      "include_colab_link": true,
      "provenance": [],
      "toc_visible": true
    },
    "kernelspec": {
      "display_name": "Python 3",
      "name": "python3"
    },
    "language_info": {
      "name": "python"
    }
  },
  "nbformat": 4,
  "nbformat_minor": 0
}
