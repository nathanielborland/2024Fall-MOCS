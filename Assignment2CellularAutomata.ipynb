{
  "cells": [
    {
      "cell_type": "markdown",
      "metadata": {
        "colab_type": "text",
        "id": "view-in-github"
      },
      "source": [
        "<a href=\"https://colab.research.google.com/github/trevor-webster/2024Fall-MOCS/blob/main/Assignment2CellularAutomata.ipynb\" target=\"_parent\"><img src=\"https://colab.research.google.com/assets/colab-badge.svg\" alt=\"Open In Colab\"/></a>"
      ]
    },
    {
      "cell_type": "markdown",
      "metadata": {},
      "source": [
        "## **Assignment #2**\n",
        "Carina Manitius, Trevor Webster, Derek Devine, Nate Borland"
      ]
    },
    {
      "cell_type": "markdown",
      "metadata": {
        "id": "QDMojDhsNQuC"
      },
      "source": [
        "# 1"
      ]
    },
    {
      "cell_type": "markdown",
      "metadata": {
        "id": "s6DzEZAEqCGB"
      },
      "source": [
        "$$\\frac{dN_1}{dt} = \\frac{r_1 N_1(K_1 - N_1 - \\alpha_{12} N_2)}{K1}$$\n",
        "$$\\frac{dN_2}{dt} = \\frac{r_2 N_2(K_2 - N_2 - \\alpha_{21} N_1)}{K2}$$\n",
        "\n"
      ]
    },
    {
      "cell_type": "code",
      "execution_count": null,
      "metadata": {},
      "outputs": [],
      "source": [
        "import numpy as np\n",
        "import random\n",
        "\n",
        "# Random walker\n",
        "def run_random_walker(world, position, history, steps):\n",
        "    N1 = world.shape[0]\n",
        "    N2 = world.shape[1]\n",
        "    (i,j) = position\n",
        "    for k in range(steps): #for every step\n",
        "        for i in np.arange(0, N1, 1):\n",
        "          for j in np.arange(0, N2, 1):\n",
        "            world[position] = 0.67\n",
        "            (i,j) = position\n",
        "            die = random.uniform(0, 1)\n",
        "            if die<0.5: #bottom step\n",
        "              world[position] = 1\n",
        "            history.append(position)\n",
        "\n",
        "    return (world,position,history)"
      ]
    },
    {
      "cell_type": "code",
      "execution_count": null,
      "metadata": {},
      "outputs": [
        {
          "data": {
            "image/png": "[encoded data removed]",
            "text/plain": [
              "<Figure size 400x400 with 1 Axes>"
            ]
          },
          "metadata": {},
          "output_type": "display_data"
        }
      ],
      "source": [
        "import numpy as np\n",
        "import matplotlib.pyplot as plt\n",
        "from matplotlib import cm\n",
        "from matplotlib import patches\n",
        "import random\n",
        "\n",
        "from IPython import display\n",
        "from time import sleep\n",
        "\n",
        "# Parameters\n",
        "N, S, K, steps = 32, 2, 3, 32 #size, states, neighbors, steps\n",
        "rule = 30 #rule number\n",
        "tape = np.zeros(N) #initial conditions of zero\n",
        "tape[N//2] = 1 #initial conditions\n",
        "#tape = np.random.randint(2, size=N) #random initial conditions\n",
        "\n",
        "# Run the CA\n",
        "#tapes = run_1d_CA(steps,tape)\n",
        "#tapes = run_rule_30(steps,tape)\n",
        "tapes = run_cellauto(S, K, decode_rule(rule, S, K), steps, tape) #run model\n",
        "\n",
        "# Plot everything slowly, one generation at a time\n",
        "fig, ax = plt.subplots(figsize=(4, 4))\n",
        "ax.set_xlim(0,N)\n",
        "ax.set_ylim(0,steps)\n",
        "plt.axis('off')\n",
        "ax.set_aspect('equal')\n",
        "for i in range(steps):\n",
        "    temp = np.zeros((steps,N))\n",
        "    temp[0:i,:] = tapes[0:i,:]\n",
        "    plt.imshow(np.flipud(temp), cmap=plt.get_cmap(cm.bone))\n",
        "    display.display(plt.gcf())\n",
        "    display.clear_output(wait=True)\n",
        "\n",
        "# Add rule label\n",
        "#ax.text(2, steps+0.5, f'Cellular automaton', color='Orange', fontsize=20)\n",
        "ax.text(2, steps+0.5, f'Rule {rule}', color='Orange', fontsize=20)\n",
        "plt.show()"
      ]
    },
    {
      "cell_type": "markdown",
      "metadata": {},
      "source": [
        "# City Growth"
      ]
    },
    {
      "cell_type": "code",
      "execution_count": 10,
      "metadata": {},
      "outputs": [
        {
          "data": {
            "image/png": "[encoded data removed]",
            "text/plain": [
              "<Figure size 640x480 with 1 Axes>"
            ]
          },
          "metadata": {},
          "output_type": "display_data"
        }
      ],
      "source": [
        "import numpy as np\n",
        "import matplotlib.pyplot as plt\n",
        "from matplotlib import cm\n",
        "from IPython import display\n",
        "\n",
        "import time\n",
        "\n",
        "# chance to turn into a city for each possible number of city neighbors\n",
        "chance_0 = 0 # @param {type:\"slider\", min:0, max:1, step:0.01}\n",
        "chance_1 = 1 # @param {type:\"slider\", min:0, max:1, step:0.01}\n",
        "chance_2 = 0 # @param {type:\"slider\", min:0, max:1, step:0.01}\n",
        "chance_3 = 0 # @param {type:\"slider\", min:0, max:1, step:0.01}\n",
        "chance_4 = 0 # @param {type:\"slider\", min:0, max:1, step:0.01}\n",
        "chance_5 = 0 # @param {type:\"slider\", min:0, max:1, step:0.01}\n",
        "chance_6 = 0 # @param {type:\"slider\", min:0, max:1, step:0.01}\n",
        "chance_7 = 0 # @param {type:\"slider\", min:0, max:1, step:0.01}\n",
        "chance_8 = 0 # @param {type:\"slider\", min:0, max:1, step:0.01}\n",
        "r_growth_rate   = 1 # @param {type:\"slider\", min:0, max:1, step:0.01}\n",
        "# listed for easy indexing\n",
        "chances = [chance_0, chance_1, chance_2, chance_3, chance_4, chance_5, chance_6, chance_7, chance_8]\n",
        "K = 9 - 1\n",
        "# displays the current state of world cells\n",
        "def display_world(world):\n",
        "    plt.imshow(np.flipud(world), cmap=plt.get_cmap(cm.ocean))\n",
        "    display.display(plt.gcf())\n",
        "    display.clear_output(wait=True)\n",
        "\n",
        "# counts up the city neighbors of the world cell at [i,j]\n",
        "def count_city_neighbors(world, world_size, i, j):\n",
        "    neighborhood = world[max(i-1,0):min(i+2,world_size), max(j-1,0):min(j+2,world_size)]\n",
        "    count = np.count_nonzero(neighborhood)\n",
        "    # for k in range(len(neighborhood)):\n",
        "    #     for l in range(len(neighborhood[k])):\n",
        "    #         if (k != i or l != j) and neighborhood[k][l] == 1:\n",
        "    #             count+=1\n",
        "    # for k in range(max(0, i-1), min(world_size, i+2)):\n",
        "    #     for l in range(max(0, j-1), min(world_size, j+2)):\n",
        "    #         # if (k != i or l != j) and world[k,l] == 1:\n",
        "    #         if world[k][l] == 1:\n",
        "    #             count += 1\n",
        "    \n",
        "    return count\n",
        "\n",
        "def logistic_rule(neighbor_count):\n",
        "    return np.random.rand() < r_growth_rate * (1 - (neighbor_count/K))\n",
        "\n",
        "## Explicit zoning rules for each neighbor count\n",
        "def rule(neighbor_count):\n",
        "    return (chances[neighbor_count] > 0 and np.random.rand() < chances[neighbor_count])\n",
        "\n",
        "def update_world(world, world_size):\n",
        "    next_world = world.copy()\n",
        "    reached_edge = False\n",
        "    for i in range(world_size):\n",
        "        for j in range(world_size):\n",
        "            if world[i][j] == 1:\n",
        "                continue\n",
        "            neighbor_count = count_city_neighbors(world, world_size,i,j)\n",
        "            if(rule(neighbor_count)):\n",
        "                next_world[i,j] = 1\n",
        "                if i == 0 or j == 0 or i == world_size-1 or j == world_size-1:\n",
        "                    reached_edge = True\n",
        "            \n",
        "    # print(next_world)\n",
        "    return (next_world, reached_edge)\n",
        "\n",
        "size = 99\n",
        "world = np.zeros((size,size))\n",
        "# world = np.arange(size**2).reshape(size,size)\n",
        "# print(world)\n",
        "# i = 6\n",
        "# j = 6\n",
        "# print(get_neighborhood(world,size,i,j))\n",
        "world[size//2,size//2] = 1\n",
        "reached_edge = False\n",
        "n = 0\n",
        "while not reached_edge:\n",
        "    display_world(world)\n",
        "    # time.sleep(0.1)\n",
        "    (world, reached_edge) = update_world(world, size)\n",
        "display_world(world)\n"
      ]
    }
  ],
  "metadata": {
    "colab": {
      "include_colab_link": true,
      "provenance": [],
      "toc_visible": true
    },
    "kernelspec": {
      "display_name": "Python 3",
      "language": "python",
      "name": "python3"
    },
    "language_info": {
      "codemirror_mode": {
        "name": "ipython",
        "version": 3
      },
      "file_extension": ".py",
      "mimetype": "text/x-python",
      "name": "python",
      "nbconvert_exporter": "python",
      "pygments_lexer": "ipython3",
      "version": "3.10.11"
    }
  },
  "nbformat": 4,
  "nbformat_minor": 0
}
